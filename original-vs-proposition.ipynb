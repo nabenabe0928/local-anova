{
 "cells": [
  {
   "cell_type": "code",
   "execution_count": 1,
   "id": "6cdbef1d",
   "metadata": {},
   "outputs": [],
   "source": [
    "from anova import global_hpi, local_hpi\n",
    "import numpy as np\n",
    "import matplotlib.pyplot as plt\n",
    "import os\n",
    "\n",
    "\n",
    "plt.rcParams[\"font.family\"] = \"Times New Roman\"\n",
    "plt.rcParams[\"font.size\"] = 16\n",
    "plt.rcParams['mathtext.fontset'] = 'stix'  # The setting of math font\n",
    "\n",
    "os.makedirs(\"figs/\", exist_ok=True)"
   ]
  },
  {
   "cell_type": "code",
   "execution_count": 12,
   "id": "ad413c67",
   "metadata": {},
   "outputs": [
    {
     "data": {
      "text/plain": [
       "<matplotlib.contour.QuadContourSet at 0x7f0942bd8790>"
      ]
     },
     "execution_count": 12,
     "metadata": {},
     "output_type": "execute_result"
    },
    {
     "data": {
      "image/png": "[encoded data removed]",
      "text/plain": [
       "<Figure size 360x360 with 4 Axes>"
      ]
     },
     "metadata": {},
     "output_type": "display_data"
    }
   ],
   "source": [
    "def f(x, y):\n",
    "    return x ** 2 + (y / 10) ** 2\n",
    "\n",
    "\n",
    "LB, UB = -5, 5\n",
    "dx = np.linspace(LB, UB, 100)\n",
    "dy = np.linspace(LB, UB, 100)\n",
    "levels = np.linspace(0, 26, 100)\n",
    "\n",
    "_, axes = plt.subplots(\n",
    "    ncols=2,\n",
    "    nrows=2,\n",
    "    figsize=(5, 5),\n",
    "    sharex=True,\n",
    "    sharey=True,\n",
    "    gridspec_kw=dict(\n",
    "        width_ratios=(1, 4),\n",
    "        height_ratios=(4, 1),\n",
    "        wspace=0.05,\n",
    "        hspace=0.05,\n",
    "    )\n",
    ")\n",
    "TICK_PARAMS = dict(labelbottom=False, bottom=False, labelleft=False, left=False)\n",
    "axes[1][0].axis(\"off\")\n",
    "\n",
    "X, Y = np.meshgrid(dx, dy)\n",
    "Z = f(X, Y)\n",
    "\n",
    "for r in range(2):\n",
    "    for c in range(2):\n",
    "        ax = axes[r][c]\n",
    "        ax.tick_params(**TICK_PARAMS)\n",
    "\n",
    "ax = axes[0][1]\n",
    "ax.contourf(X, Y, Z, levels=levels)"
   ]
  },
  {
   "cell_type": "code",
   "execution_count": null,
   "id": "b5a1b8b1",
   "metadata": {},
   "outputs": [],
   "source": []
  }
 ],
 "metadata": {
  "kernelspec": {
   "display_name": "Python 3",
   "language": "python",
   "name": "python3"
  },
  "language_info": {
   "codemirror_mode": {
    "name": "ipython",
    "version": 3
   },
   "file_extension": ".py",
   "mimetype": "text/x-python",
   "name": "python",
   "nbconvert_exporter": "python",
   "pygments_lexer": "ipython3",
   "version": "3.8.3"
  }
 },
 "nbformat": 4,
 "nbformat_minor": 5
}
